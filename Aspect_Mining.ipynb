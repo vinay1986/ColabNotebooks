{
  "nbformat": 4,
  "nbformat_minor": 0,
  "metadata": {
    "colab": {
      "name": "Aspect Mining.ipynb",
      "provenance": [],
      "collapsed_sections": [],
      "authorship_tag": "ABX9TyOOK2ArPD7IrAHBRvZPAafJ",
      "include_colab_link": true
    },
    "kernelspec": {
      "name": "python3",
      "display_name": "Python 3"
    }
  },
  "cells": [
    {
      "cell_type": "markdown",
      "metadata": {
        "id": "view-in-github",
        "colab_type": "text"
      },
      "source": [
        "<a href=\"https://colab.research.google.com/github/vinay1986/ColabNotebooks/blob/main/Aspect_Mining.ipynb\" target=\"_parent\"><img src=\"https://colab.research.google.com/assets/colab-badge.svg\" alt=\"Open In Colab\"/></a>"
      ]
    },
    {
      "cell_type": "code",
      "metadata": {
        "id": "x4liayBDlwZM"
      },
      "source": [
        "#https://github.com/ScalaConsultants/Aspect-Based-Sentiment-Analysis"
      ],
      "execution_count": null,
      "outputs": []
    },
    {
      "cell_type": "code",
      "metadata": {
        "colab": {
          "base_uri": "https://localhost:8080/"
        },
        "id": "QuyCjv0Kl3lr",
        "outputId": "87ca71b3-304f-4de1-d539-6c1a164dc2df"
      },
      "source": [
        "!pip install aspect-based-sentiment-analysis\n"
      ],
      "execution_count": 1,
      "outputs": [
        {
          "output_type": "stream",
          "text": [
            "Collecting aspect-based-sentiment-analysis\n",
            "  Downloading https://files.pythonhosted.org/packages/30/18/979a28612ab5fc1f3731355226c2ee0cb80482ff756ac83a95f84766ab9d/aspect_based_sentiment_analysis-2.0.2-py3-none-any.whl\n",
            "Requirement already satisfied: scikit-learn in /usr/local/lib/python3.6/dist-packages (from aspect-based-sentiment-analysis) (0.22.2.post1)\n",
            "Requirement already satisfied: pytest in /usr/local/lib/python3.6/dist-packages (from aspect-based-sentiment-analysis) (3.6.4)\n",
            "Collecting optuna\n",
            "\u001b[?25l  Downloading https://files.pythonhosted.org/packages/59/b4/a1a80252cef3d8f5a0acdf6e678d6dc07e2e6964ee46d0453a2ae1af1ecb/optuna-2.4.0-py3-none-any.whl (282kB)\n",
            "\u001b[K     |████████████████████████████████| 286kB 7.8MB/s \n",
            "\u001b[?25hCollecting testfixtures\n",
            "\u001b[?25l  Downloading https://files.pythonhosted.org/packages/9c/93/08cbd1203cd490ac789f42a9594540d1b6c4d8fca6c2d06296b284518052/testfixtures-6.17.1-py2.py3-none-any.whl (95kB)\n",
            "\u001b[K     |████████████████████████████████| 102kB 10.1MB/s \n",
            "\u001b[?25hRequirement already satisfied: spacy in /usr/local/lib/python3.6/dist-packages (from aspect-based-sentiment-analysis) (2.2.4)\n",
            "Requirement already satisfied: ipython in /usr/local/lib/python3.6/dist-packages (from aspect-based-sentiment-analysis) (5.5.0)\n",
            "Requirement already satisfied: google-cloud-storage in /usr/local/lib/python3.6/dist-packages (from aspect-based-sentiment-analysis) (1.18.1)\n",
            "Collecting transformers==2.5\n",
            "\u001b[?25l  Downloading https://files.pythonhosted.org/packages/04/58/3d789b98923da6485f376be1e04d59ad7003a63bdb2b04b5eea7e02857e5/transformers-2.5.0-py3-none-any.whl (481kB)\n",
            "\u001b[K     |████████████████████████████████| 491kB 36.7MB/s \n",
            "\u001b[?25hCollecting tensorflow==2.2\n",
            "\u001b[?25l  Downloading https://files.pythonhosted.org/packages/3d/be/679ce5254a8c8d07470efb4a4c00345fae91f766e64f1c2aece8796d7218/tensorflow-2.2.0-cp36-cp36m-manylinux2010_x86_64.whl (516.2MB)\n",
            "\u001b[K     |████████████████████████████████| 516.2MB 18kB/s \n",
            "\u001b[?25hRequirement already satisfied: numpy>=1.11.0 in /usr/local/lib/python3.6/dist-packages (from scikit-learn->aspect-based-sentiment-analysis) (1.19.5)\n",
            "Requirement already satisfied: joblib>=0.11 in /usr/local/lib/python3.6/dist-packages (from scikit-learn->aspect-based-sentiment-analysis) (1.0.0)\n",
            "Requirement already satisfied: scipy>=0.17.0 in /usr/local/lib/python3.6/dist-packages (from scikit-learn->aspect-based-sentiment-analysis) (1.4.1)\n",
            "Requirement already satisfied: attrs>=17.4.0 in /usr/local/lib/python3.6/dist-packages (from pytest->aspect-based-sentiment-analysis) (20.3.0)\n",
            "Requirement already satisfied: pluggy<0.8,>=0.5 in /usr/local/lib/python3.6/dist-packages (from pytest->aspect-based-sentiment-analysis) (0.7.1)\n",
            "Requirement already satisfied: atomicwrites>=1.0 in /usr/local/lib/python3.6/dist-packages (from pytest->aspect-based-sentiment-analysis) (1.4.0)\n",
            "Requirement already satisfied: setuptools in /usr/local/lib/python3.6/dist-packages (from pytest->aspect-based-sentiment-analysis) (51.3.3)\n",
            "Requirement already satisfied: py>=1.5.0 in /usr/local/lib/python3.6/dist-packages (from pytest->aspect-based-sentiment-analysis) (1.10.0)\n",
            "Requirement already satisfied: six>=1.10.0 in /usr/local/lib/python3.6/dist-packages (from pytest->aspect-based-sentiment-analysis) (1.15.0)\n",
            "Requirement already satisfied: more-itertools>=4.0.0 in /usr/local/lib/python3.6/dist-packages (from pytest->aspect-based-sentiment-analysis) (8.6.0)\n",
            "Requirement already satisfied: sqlalchemy>=1.1.0 in /usr/local/lib/python3.6/dist-packages (from optuna->aspect-based-sentiment-analysis) (1.3.22)\n",
            "Requirement already satisfied: packaging>=20.0 in /usr/local/lib/python3.6/dist-packages (from optuna->aspect-based-sentiment-analysis) (20.8)\n",
            "Collecting cmaes>=0.6.0\n",
            "  Downloading https://files.pythonhosted.org/packages/8d/3c/06c76ec8b54b9b1fad7f35e903fd25010fe3e0d41bd94cea5e6f12e0d651/cmaes-0.7.0-py3-none-any.whl\n",
            "Collecting colorlog\n",
            "  Downloading https://files.pythonhosted.org/packages/5e/39/0230290df0519d528d8d0ffdfd900150ed24e0076d13b1f19e279444aab1/colorlog-4.7.2-py2.py3-none-any.whl\n",
            "Requirement already satisfied: tqdm in /usr/local/lib/python3.6/dist-packages (from optuna->aspect-based-sentiment-analysis) (4.41.1)\n",
            "Collecting cliff\n",
            "\u001b[?25l  Downloading https://files.pythonhosted.org/packages/0f/8f/3c74fa4b6c3db1051b495385f5302fc5d5aa0f180d40ce3e9a13c82f8c82/cliff-3.6.0-py3-none-any.whl (79kB)\n",
            "\u001b[K     |████████████████████████████████| 81kB 9.9MB/s \n",
            "\u001b[?25hCollecting alembic\n",
            "\u001b[?25l  Downloading https://files.pythonhosted.org/packages/cd/d2/1c6e91299280ef1a6dadbbd5e762a8b091d02e2340a9ff001b58ca80f536/alembic-1.5.3.tar.gz (1.1MB)\n",
            "\u001b[K     |████████████████████████████████| 1.1MB 54.7MB/s \n",
            "\u001b[?25hRequirement already satisfied: thinc==7.4.0 in /usr/local/lib/python3.6/dist-packages (from spacy->aspect-based-sentiment-analysis) (7.4.0)\n",
            "Requirement already satisfied: wasabi<1.1.0,>=0.4.0 in /usr/local/lib/python3.6/dist-packages (from spacy->aspect-based-sentiment-analysis) (0.8.1)\n",
            "Requirement already satisfied: catalogue<1.1.0,>=0.0.7 in /usr/local/lib/python3.6/dist-packages (from spacy->aspect-based-sentiment-analysis) (1.0.0)\n",
            "Requirement already satisfied: requests<3.0.0,>=2.13.0 in /usr/local/lib/python3.6/dist-packages (from spacy->aspect-based-sentiment-analysis) (2.23.0)\n",
            "Requirement already satisfied: preshed<3.1.0,>=3.0.2 in /usr/local/lib/python3.6/dist-packages (from spacy->aspect-based-sentiment-analysis) (3.0.5)\n",
            "Requirement already satisfied: srsly<1.1.0,>=1.0.2 in /usr/local/lib/python3.6/dist-packages (from spacy->aspect-based-sentiment-analysis) (1.0.5)\n",
            "Requirement already satisfied: blis<0.5.0,>=0.4.0 in /usr/local/lib/python3.6/dist-packages (from spacy->aspect-based-sentiment-analysis) (0.4.1)\n",
            "Requirement already satisfied: plac<1.2.0,>=0.9.6 in /usr/local/lib/python3.6/dist-packages (from spacy->aspect-based-sentiment-analysis) (1.1.3)\n",
            "Requirement already satisfied: cymem<2.1.0,>=2.0.2 in /usr/local/lib/python3.6/dist-packages (from spacy->aspect-based-sentiment-analysis) (2.0.5)\n",
            "Requirement already satisfied: murmurhash<1.1.0,>=0.28.0 in /usr/local/lib/python3.6/dist-packages (from spacy->aspect-based-sentiment-analysis) (1.0.5)\n",
            "Requirement already satisfied: traitlets>=4.2 in /usr/local/lib/python3.6/dist-packages (from ipython->aspect-based-sentiment-analysis) (4.3.3)\n",
            "Requirement already satisfied: pygments in /usr/local/lib/python3.6/dist-packages (from ipython->aspect-based-sentiment-analysis) (2.6.1)\n",
            "Requirement already satisfied: pickleshare in /usr/local/lib/python3.6/dist-packages (from ipython->aspect-based-sentiment-analysis) (0.7.5)\n",
            "Requirement already satisfied: pexpect; sys_platform != \"win32\" in /usr/local/lib/python3.6/dist-packages (from ipython->aspect-based-sentiment-analysis) (4.8.0)\n",
            "Requirement already satisfied: simplegeneric>0.8 in /usr/local/lib/python3.6/dist-packages (from ipython->aspect-based-sentiment-analysis) (0.8.1)\n",
            "Requirement already satisfied: prompt-toolkit<2.0.0,>=1.0.4 in /usr/local/lib/python3.6/dist-packages (from ipython->aspect-based-sentiment-analysis) (1.0.18)\n",
            "Requirement already satisfied: decorator in /usr/local/lib/python3.6/dist-packages (from ipython->aspect-based-sentiment-analysis) (4.4.2)\n",
            "Requirement already satisfied: google-resumable-media<0.5.0dev,>=0.3.1 in /usr/local/lib/python3.6/dist-packages (from google-cloud-storage->aspect-based-sentiment-analysis) (0.4.1)\n",
            "Requirement already satisfied: google-cloud-core<2.0dev,>=1.0.0 in /usr/local/lib/python3.6/dist-packages (from google-cloud-storage->aspect-based-sentiment-analysis) (1.0.3)\n",
            "Requirement already satisfied: google-auth>=1.2.0 in /usr/local/lib/python3.6/dist-packages (from google-cloud-storage->aspect-based-sentiment-analysis) (1.17.2)\n",
            "Collecting tokenizers==0.5.0\n",
            "\u001b[?25l  Downloading https://files.pythonhosted.org/packages/7e/1d/ea7e2c628942e686595736f73678348272120d026b7acd54fe43e5211bb1/tokenizers-0.5.0-cp36-cp36m-manylinux1_x86_64.whl (3.8MB)\n",
            "\u001b[K     |████████████████████████████████| 3.8MB 48.5MB/s \n",
            "\u001b[?25hRequirement already satisfied: regex!=2019.12.17 in /usr/local/lib/python3.6/dist-packages (from transformers==2.5->aspect-based-sentiment-analysis) (2019.12.20)\n",
            "Collecting sentencepiece\n",
            "\u001b[?25l  Downloading https://files.pythonhosted.org/packages/14/67/e42bd1181472c95c8cda79305df848264f2a7f62740995a46945d9797b67/sentencepiece-0.1.95-cp36-cp36m-manylinux2014_x86_64.whl (1.2MB)\n",
            "\u001b[K     |████████████████████████████████| 1.2MB 43.1MB/s \n",
            "\u001b[?25hCollecting sacremoses\n",
            "\u001b[?25l  Downloading https://files.pythonhosted.org/packages/7d/34/09d19aff26edcc8eb2a01bed8e98f13a1537005d31e95233fd48216eed10/sacremoses-0.0.43.tar.gz (883kB)\n",
            "\u001b[K     |████████████████████████████████| 890kB 46.1MB/s \n",
            "\u001b[?25hRequirement already satisfied: filelock in /usr/local/lib/python3.6/dist-packages (from transformers==2.5->aspect-based-sentiment-analysis) (3.0.12)\n",
            "Collecting boto3\n",
            "\u001b[?25l  Downloading https://files.pythonhosted.org/packages/c3/db/a7e290eb77632c9d25247977bbfc99aef9cd59f7c13eea69f8fea44404af/boto3-1.16.63-py2.py3-none-any.whl (130kB)\n",
            "\u001b[K     |████████████████████████████████| 133kB 52.7MB/s \n",
            "\u001b[?25hRequirement already satisfied: wheel>=0.26; python_version >= \"3\" in /usr/local/lib/python3.6/dist-packages (from tensorflow==2.2->aspect-based-sentiment-analysis) (0.36.2)\n",
            "Requirement already satisfied: gast==0.3.3 in /usr/local/lib/python3.6/dist-packages (from tensorflow==2.2->aspect-based-sentiment-analysis) (0.3.3)\n",
            "Requirement already satisfied: grpcio>=1.8.6 in /usr/local/lib/python3.6/dist-packages (from tensorflow==2.2->aspect-based-sentiment-analysis) (1.32.0)\n",
            "Requirement already satisfied: wrapt>=1.11.1 in /usr/local/lib/python3.6/dist-packages (from tensorflow==2.2->aspect-based-sentiment-analysis) (1.12.1)\n",
            "Requirement already satisfied: h5py<2.11.0,>=2.10.0 in /usr/local/lib/python3.6/dist-packages (from tensorflow==2.2->aspect-based-sentiment-analysis) (2.10.0)\n",
            "Collecting tensorboard<2.3.0,>=2.2.0\n",
            "\u001b[?25l  Downloading https://files.pythonhosted.org/packages/1d/74/0a6fcb206dcc72a6da9a62dd81784bfdbff5fedb099982861dc2219014fb/tensorboard-2.2.2-py3-none-any.whl (3.0MB)\n",
            "\u001b[K     |████████████████████████████████| 3.0MB 47.9MB/s \n",
            "\u001b[?25hCollecting tensorflow-estimator<2.3.0,>=2.2.0\n",
            "\u001b[?25l  Downloading https://files.pythonhosted.org/packages/a4/f5/926ae53d6a226ec0fda5208e0e581cffed895ccc89e36ba76a8e60895b78/tensorflow_estimator-2.2.0-py2.py3-none-any.whl (454kB)\n",
            "\u001b[K     |████████████████████████████████| 460kB 38.4MB/s \n",
            "\u001b[?25hRequirement already satisfied: absl-py>=0.7.0 in /usr/local/lib/python3.6/dist-packages (from tensorflow==2.2->aspect-based-sentiment-analysis) (0.10.0)\n",
            "Requirement already satisfied: termcolor>=1.1.0 in /usr/local/lib/python3.6/dist-packages (from tensorflow==2.2->aspect-based-sentiment-analysis) (1.1.0)\n",
            "Requirement already satisfied: astunparse==1.6.3 in /usr/local/lib/python3.6/dist-packages (from tensorflow==2.2->aspect-based-sentiment-analysis) (1.6.3)\n",
            "Requirement already satisfied: keras-preprocessing>=1.1.0 in /usr/local/lib/python3.6/dist-packages (from tensorflow==2.2->aspect-based-sentiment-analysis) (1.1.2)\n",
            "Requirement already satisfied: google-pasta>=0.1.8 in /usr/local/lib/python3.6/dist-packages (from tensorflow==2.2->aspect-based-sentiment-analysis) (0.2.0)\n",
            "Requirement already satisfied: opt-einsum>=2.3.2 in /usr/local/lib/python3.6/dist-packages (from tensorflow==2.2->aspect-based-sentiment-analysis) (3.3.0)\n",
            "Requirement already satisfied: protobuf>=3.8.0 in /usr/local/lib/python3.6/dist-packages (from tensorflow==2.2->aspect-based-sentiment-analysis) (3.12.4)\n",
            "Requirement already satisfied: pyparsing>=2.0.2 in /usr/local/lib/python3.6/dist-packages (from packaging>=20.0->optuna->aspect-based-sentiment-analysis) (2.4.7)\n",
            "Collecting stevedore>=2.0.1\n",
            "\u001b[?25l  Downloading https://files.pythonhosted.org/packages/d4/49/b602307aeac3df3384ff1fcd05da9c0376c622a6c48bb5325f28ab165b57/stevedore-3.3.0-py3-none-any.whl (49kB)\n",
            "\u001b[K     |████████████████████████████████| 51kB 5.5MB/s \n",
            "\u001b[?25hCollecting PrettyTable<0.8,>=0.7.2\n",
            "  Downloading https://files.pythonhosted.org/packages/ef/30/4b0746848746ed5941f052479e7c23d2b56d174b82f4fd34a25e389831f5/prettytable-0.7.2.tar.bz2\n",
            "Collecting pbr!=2.1.0,>=2.0.0\n",
            "\u001b[?25l  Downloading https://files.pythonhosted.org/packages/fb/48/69046506f6ac61c1eaa9a0d42d22d54673b69e176d30ca98e3f61513e980/pbr-5.5.1-py2.py3-none-any.whl (106kB)\n",
            "\u001b[K     |████████████████████████████████| 112kB 46.3MB/s \n",
            "\u001b[?25hRequirement already satisfied: PyYAML>=3.12 in /usr/local/lib/python3.6/dist-packages (from cliff->optuna->aspect-based-sentiment-analysis) (3.13)\n",
            "Collecting cmd2!=0.8.3,>=0.8.0\n",
            "\u001b[?25l  Downloading https://files.pythonhosted.org/packages/27/54/af6e2703f064485d717cb311d3f9440cd302a823ba6d80a020b59eae166d/cmd2-1.4.0-py3-none-any.whl (133kB)\n",
            "\u001b[K     |████████████████████████████████| 133kB 46.6MB/s \n",
            "\u001b[?25hCollecting Mako\n",
            "\u001b[?25l  Downloading https://files.pythonhosted.org/packages/5c/db/2d2d88b924aa4674a080aae83b59ea19d593250bfe5ed789947c21736785/Mako-1.1.4.tar.gz (479kB)\n",
            "\u001b[K     |████████████████████████████████| 481kB 39.0MB/s \n",
            "\u001b[?25hCollecting python-editor>=0.3\n",
            "  Downloading https://files.pythonhosted.org/packages/c6/d3/201fc3abe391bbae6606e6f1d598c15d367033332bd54352b12f35513717/python_editor-1.0.4-py3-none-any.whl\n",
            "Requirement already satisfied: python-dateutil in /usr/local/lib/python3.6/dist-packages (from alembic->optuna->aspect-based-sentiment-analysis) (2.8.1)\n",
            "Requirement already satisfied: importlib-metadata>=0.20; python_version < \"3.8\" in /usr/local/lib/python3.6/dist-packages (from catalogue<1.1.0,>=0.0.7->spacy->aspect-based-sentiment-analysis) (3.4.0)\n",
            "Requirement already satisfied: certifi>=2017.4.17 in /usr/local/lib/python3.6/dist-packages (from requests<3.0.0,>=2.13.0->spacy->aspect-based-sentiment-analysis) (2020.12.5)\n",
            "Requirement already satisfied: urllib3!=1.25.0,!=1.25.1,<1.26,>=1.21.1 in /usr/local/lib/python3.6/dist-packages (from requests<3.0.0,>=2.13.0->spacy->aspect-based-sentiment-analysis) (1.24.3)\n",
            "Requirement already satisfied: idna<3,>=2.5 in /usr/local/lib/python3.6/dist-packages (from requests<3.0.0,>=2.13.0->spacy->aspect-based-sentiment-analysis) (2.10)\n",
            "Requirement already satisfied: chardet<4,>=3.0.2 in /usr/local/lib/python3.6/dist-packages (from requests<3.0.0,>=2.13.0->spacy->aspect-based-sentiment-analysis) (3.0.4)\n",
            "Requirement already satisfied: ipython-genutils in /usr/local/lib/python3.6/dist-packages (from traitlets>=4.2->ipython->aspect-based-sentiment-analysis) (0.2.0)\n",
            "Requirement already satisfied: ptyprocess>=0.5 in /usr/local/lib/python3.6/dist-packages (from pexpect; sys_platform != \"win32\"->ipython->aspect-based-sentiment-analysis) (0.7.0)\n",
            "Requirement already satisfied: wcwidth in /usr/local/lib/python3.6/dist-packages (from prompt-toolkit<2.0.0,>=1.0.4->ipython->aspect-based-sentiment-analysis) (0.2.5)\n",
            "Requirement already satisfied: google-api-core<2.0.0dev,>=1.14.0 in /usr/local/lib/python3.6/dist-packages (from google-cloud-core<2.0dev,>=1.0.0->google-cloud-storage->aspect-based-sentiment-analysis) (1.16.0)\n",
            "Requirement already satisfied: rsa<5,>=3.1.4; python_version >= \"3\" in /usr/local/lib/python3.6/dist-packages (from google-auth>=1.2.0->google-cloud-storage->aspect-based-sentiment-analysis) (4.7)\n",
            "Requirement already satisfied: pyasn1-modules>=0.2.1 in /usr/local/lib/python3.6/dist-packages (from google-auth>=1.2.0->google-cloud-storage->aspect-based-sentiment-analysis) (0.2.8)\n",
            "Requirement already satisfied: cachetools<5.0,>=2.0.0 in /usr/local/lib/python3.6/dist-packages (from google-auth>=1.2.0->google-cloud-storage->aspect-based-sentiment-analysis) (4.2.1)\n",
            "Requirement already satisfied: click in /usr/local/lib/python3.6/dist-packages (from sacremoses->transformers==2.5->aspect-based-sentiment-analysis) (7.1.2)\n",
            "Collecting jmespath<1.0.0,>=0.7.1\n",
            "  Downloading https://files.pythonhosted.org/packages/07/cb/5f001272b6faeb23c1c9e0acc04d48eaaf5c862c17709d20e3469c6e0139/jmespath-0.10.0-py2.py3-none-any.whl\n",
            "Collecting botocore<1.20.0,>=1.19.63\n",
            "\u001b[?25l  Downloading https://files.pythonhosted.org/packages/2c/05/0a955f0c92bec7da076fbbc73926dfb13fab8e2b88de7f8eb17c443f28f0/botocore-1.19.63-py2.py3-none-any.whl (7.2MB)\n",
            "\u001b[K     |████████████████████████████████| 7.2MB 37.3MB/s \n",
            "\u001b[?25hCollecting s3transfer<0.4.0,>=0.3.0\n",
            "\u001b[?25l  Downloading https://files.pythonhosted.org/packages/ea/43/4b4a1b26eb03a429a4c37ca7fdf369d938bd60018fc194e94b8379b0c77c/s3transfer-0.3.4-py2.py3-none-any.whl (69kB)\n",
            "\u001b[K     |████████████████████████████████| 71kB 8.8MB/s \n",
            "\u001b[?25hRequirement already satisfied: tensorboard-plugin-wit>=1.6.0 in /usr/local/lib/python3.6/dist-packages (from tensorboard<2.3.0,>=2.2.0->tensorflow==2.2->aspect-based-sentiment-analysis) (1.8.0)\n",
            "Requirement already satisfied: google-auth-oauthlib<0.5,>=0.4.1 in /usr/local/lib/python3.6/dist-packages (from tensorboard<2.3.0,>=2.2.0->tensorflow==2.2->aspect-based-sentiment-analysis) (0.4.2)\n",
            "Requirement already satisfied: werkzeug>=0.11.15 in /usr/local/lib/python3.6/dist-packages (from tensorboard<2.3.0,>=2.2.0->tensorflow==2.2->aspect-based-sentiment-analysis) (1.0.1)\n",
            "Requirement already satisfied: markdown>=2.6.8 in /usr/local/lib/python3.6/dist-packages (from tensorboard<2.3.0,>=2.2.0->tensorflow==2.2->aspect-based-sentiment-analysis) (3.3.3)\n",
            "Collecting pyperclip>=1.6\n",
            "  Downloading https://files.pythonhosted.org/packages/6f/4c/0b1d507ad7e8bc31d690d04b4f475e74c2002d060f7994ce8c09612df707/pyperclip-1.8.1.tar.gz\n",
            "Collecting colorama>=0.3.7\n",
            "  Downloading https://files.pythonhosted.org/packages/44/98/5b86278fbbf250d239ae0ecb724f8572af1c91f4a11edf4d36a206189440/colorama-0.4.4-py2.py3-none-any.whl\n",
            "Requirement already satisfied: MarkupSafe>=0.9.2 in /usr/local/lib/python3.6/dist-packages (from Mako->alembic->optuna->aspect-based-sentiment-analysis) (1.1.1)\n",
            "Requirement already satisfied: zipp>=0.5 in /usr/local/lib/python3.6/dist-packages (from importlib-metadata>=0.20; python_version < \"3.8\"->catalogue<1.1.0,>=0.0.7->spacy->aspect-based-sentiment-analysis) (3.4.0)\n",
            "Requirement already satisfied: typing-extensions>=3.6.4; python_version < \"3.8\" in /usr/local/lib/python3.6/dist-packages (from importlib-metadata>=0.20; python_version < \"3.8\"->catalogue<1.1.0,>=0.0.7->spacy->aspect-based-sentiment-analysis) (3.7.4.3)\n",
            "Requirement already satisfied: googleapis-common-protos<2.0dev,>=1.6.0 in /usr/local/lib/python3.6/dist-packages (from google-api-core<2.0.0dev,>=1.14.0->google-cloud-core<2.0dev,>=1.0.0->google-cloud-storage->aspect-based-sentiment-analysis) (1.52.0)\n",
            "Requirement already satisfied: pytz in /usr/local/lib/python3.6/dist-packages (from google-api-core<2.0.0dev,>=1.14.0->google-cloud-core<2.0dev,>=1.0.0->google-cloud-storage->aspect-based-sentiment-analysis) (2018.9)\n",
            "Requirement already satisfied: pyasn1>=0.1.3 in /usr/local/lib/python3.6/dist-packages (from rsa<5,>=3.1.4; python_version >= \"3\"->google-auth>=1.2.0->google-cloud-storage->aspect-based-sentiment-analysis) (0.4.8)\n",
            "Requirement already satisfied: requests-oauthlib>=0.7.0 in /usr/local/lib/python3.6/dist-packages (from google-auth-oauthlib<0.5,>=0.4.1->tensorboard<2.3.0,>=2.2.0->tensorflow==2.2->aspect-based-sentiment-analysis) (1.3.0)\n",
            "Requirement already satisfied: oauthlib>=3.0.0 in /usr/local/lib/python3.6/dist-packages (from requests-oauthlib>=0.7.0->google-auth-oauthlib<0.5,>=0.4.1->tensorboard<2.3.0,>=2.2.0->tensorflow==2.2->aspect-based-sentiment-analysis) (3.1.0)\n",
            "Building wheels for collected packages: alembic, sacremoses, PrettyTable, Mako, pyperclip\n",
            "  Building wheel for alembic (setup.py) ... \u001b[?25l\u001b[?25hdone\n",
            "  Created wheel for alembic: filename=alembic-1.5.3-py2.py3-none-any.whl size=155547 sha256=6b68d19db809b93fbcac0561c96394748bd1fdcd060849d805fb5683c05b283d\n",
            "  Stored in directory: /root/.cache/pip/wheels/7f/ed/1b/a66a0cbca75fd3e374bd5cc60c443e5675f10ef1f1f78ec31d\n",
            "  Building wheel for sacremoses (setup.py) ... \u001b[?25l\u001b[?25hdone\n",
            "  Created wheel for sacremoses: filename=sacremoses-0.0.43-cp36-none-any.whl size=893261 sha256=c82e4aacdfcd3885abb9d23cbb6f4a785e4a6c4f72989e6141192e5d73b49c1b\n",
            "  Stored in directory: /root/.cache/pip/wheels/29/3c/fd/7ce5c3f0666dab31a50123635e6fb5e19ceb42ce38d4e58f45\n",
            "  Building wheel for PrettyTable (setup.py) ... \u001b[?25l\u001b[?25hdone\n",
            "  Created wheel for PrettyTable: filename=prettytable-0.7.2-cp36-none-any.whl size=13702 sha256=134532470049f5dbabc38a29eb6075cfc17c16e3ca5d5e1d6dc69d12b19ff072\n",
            "  Stored in directory: /root/.cache/pip/wheels/80/34/1c/3967380d9676d162cb59513bd9dc862d0584e045a162095606\n",
            "  Building wheel for Mako (setup.py) ... \u001b[?25l\u001b[?25hdone\n",
            "  Created wheel for Mako: filename=Mako-1.1.4-py2.py3-none-any.whl size=75675 sha256=28f59b4dd4e3dedf8c41cad2cc17b22b3c7e3a55d8d63a54a4d2611a475aa9aa\n",
            "  Stored in directory: /root/.cache/pip/wheels/ad/10/d3/aeb26e20d19045e2a68e5d3cbb57432e11b5d9c92c99f98d47\n",
            "  Building wheel for pyperclip (setup.py) ... \u001b[?25l\u001b[?25hdone\n",
            "  Created wheel for pyperclip: filename=pyperclip-1.8.1-cp36-none-any.whl size=11120 sha256=8199aadc8baf49c6bda14963b6f1e3321660cd24f92fdd585d6db5182b5cf719\n",
            "  Stored in directory: /root/.cache/pip/wheels/44/10/3a/c830e9bb3db2c93274ea1f213a41fabde0d8cf3794251fad0c\n",
            "Successfully built alembic sacremoses PrettyTable Mako pyperclip\n",
            "\u001b[31mERROR: botocore 1.19.63 has requirement urllib3<1.27,>=1.25.4; python_version != \"3.4\", but you'll have urllib3 1.24.3 which is incompatible.\u001b[0m\n",
            "Installing collected packages: cmaes, colorlog, pbr, stevedore, PrettyTable, pyperclip, colorama, cmd2, cliff, Mako, python-editor, alembic, optuna, testfixtures, tokenizers, sentencepiece, sacremoses, jmespath, botocore, s3transfer, boto3, transformers, tensorboard, tensorflow-estimator, tensorflow, aspect-based-sentiment-analysis\n",
            "  Found existing installation: prettytable 2.0.0\n",
            "    Uninstalling prettytable-2.0.0:\n",
            "      Successfully uninstalled prettytable-2.0.0\n",
            "  Found existing installation: tensorboard 2.4.1\n",
            "    Uninstalling tensorboard-2.4.1:\n",
            "      Successfully uninstalled tensorboard-2.4.1\n",
            "  Found existing installation: tensorflow-estimator 2.4.0\n",
            "    Uninstalling tensorflow-estimator-2.4.0:\n",
            "      Successfully uninstalled tensorflow-estimator-2.4.0\n",
            "  Found existing installation: tensorflow 2.4.1\n",
            "    Uninstalling tensorflow-2.4.1:\n",
            "      Successfully uninstalled tensorflow-2.4.1\n",
            "Successfully installed Mako-1.1.4 PrettyTable-0.7.2 alembic-1.5.3 aspect-based-sentiment-analysis-2.0.2 boto3-1.16.63 botocore-1.19.63 cliff-3.6.0 cmaes-0.7.0 cmd2-1.4.0 colorama-0.4.4 colorlog-4.7.2 jmespath-0.10.0 optuna-2.4.0 pbr-5.5.1 pyperclip-1.8.1 python-editor-1.0.4 s3transfer-0.3.4 sacremoses-0.0.43 sentencepiece-0.1.95 stevedore-3.3.0 tensorboard-2.2.2 tensorflow-2.2.0 tensorflow-estimator-2.2.0 testfixtures-6.17.1 tokenizers-0.5.0 transformers-2.5.0\n"
          ],
          "name": "stdout"
        }
      ]
    },
    {
      "cell_type": "code",
      "metadata": {
        "id": "xCqgOXfLmRg7"
      },
      "source": [
        "import aspect_based_sentiment_analysis as absa\n",
        "\n",
        "text = (\"We are great fans of Slack, but we wish the subscriptions \"\n",
        "        \"were more accessible to small startups.\")\n",
        "\n",
        "recognizer = absa.aux_models.BasicPatternRecognizer()\n",
        "nlp = absa.load(pattern_recognizer=recognizer)"
      ],
      "execution_count": null,
      "outputs": []
    },
    {
      "cell_type": "code",
      "metadata": {
        "colab": {
          "base_uri": "https://localhost:8080/",
          "height": 374
        },
        "id": "FJLuj2dVnCY5",
        "outputId": "d8a4f4e6-d58e-4253-cb70-dbad5bb60c6a"
      },
      "source": [
        "\n",
        "completed_task = nlp(text, aspects=['slack', 'price','subscription'])\n",
        "#[slack, price, subscription] = completed_task.examples\n",
        "examples  = completed_task.examples\n",
        "'''\n",
        "absa.summary(slack)\n",
        "absa.display(slack.review)\n",
        "\n",
        "\n",
        "absa.summary(price)\n",
        "absa.display(price.review)\n",
        "'''\n",
        "for example in examples:\n",
        "  absa.summary(example)\n",
        "  absa.display(example.review)\n"
      ],
      "execution_count": 5,
      "outputs": [
        {
          "output_type": "stream",
          "text": [
            "Sentiment.positive for \"slack\"\n",
            "Scores (neutral/negative/positive): [0.001 0.001 0.997]\n"
          ],
          "name": "stdout"
        },
        {
          "output_type": "display_data",
          "data": {
            "text/html": [
              "<span style=\"background-color:rgba(180,180,180,1.1111111111111112);\">Importance 1.00</span> <span style=\"background-color:rgba(135,206,250,0.27499999999999997);\">we</span> <span style=\"background-color:rgba(135,206,250,0.43749999999999994);\">are</span> <span style=\"background-color:rgba(135,206,250,0.7499999999999999);\">great</span> <span style=\"background-color:rgba(135,206,250,1.25);\">fans</span> <span style=\"background-color:rgba(135,206,250,0.575);\">of</span> <span style=\"background-color:rgba(135,206,250,1.25);\">slack</span> <span style=\"background-color:rgba(135,206,250,0.1625);\">,</span> <span style=\"background-color:rgba(135,206,250,0.25);\">but</span> <span style=\"background-color:rgba(135,206,250,0.075);\">we</span> <span style=\"background-color:rgba(135,206,250,0.11249999999999999);\">wish</span> <span style=\"background-color:rgba(135,206,250,0.049999999999999996);\">the</span> <span style=\"background-color:rgba(135,206,250,0.13749999999999998);\">subscriptions</span> <span style=\"background-color:rgba(135,206,250,0.0625);\">were</span> <span style=\"background-color:rgba(135,206,250,0.0375);\">more</span> <span style=\"background-color:rgba(135,206,250,0.125);\">accessible</span> <span style=\"background-color:rgba(135,206,250,0.049999999999999996);\">to</span> <span style=\"background-color:rgba(135,206,250,0.049999999999999996);\">small</span> <span style=\"background-color:rgba(135,206,250,0.125);\">startups</span> <span style=\"background-color:rgba(135,206,250,0.125);\">.</span><br> <span style=\"background-color:rgba(180,180,180,1.0);\">Importance 0.90</span> <span style=\"background-color:rgba(135,206,250,0.2875);\">we</span> <span style=\"background-color:rgba(135,206,250,0.35000000000000003);\">are</span> <span style=\"background-color:rgba(135,206,250,1.125);\">great</span> <span style=\"background-color:rgba(135,206,250,1.125);\">fans</span> <span style=\"background-color:rgba(135,206,250,0.425);\">of</span> <span style=\"background-color:rgba(135,206,250,1.125);\">slack</span> <span style=\"background-color:rgba(135,206,250,0.13749999999999998);\">,</span> <span style=\"background-color:rgba(135,206,250,0.39999999999999997);\">but</span> <span style=\"background-color:rgba(135,206,250,0.0625);\">we</span> <span style=\"background-color:rgba(135,206,250,0.1625);\">wish</span> <span style=\"background-color:rgba(135,206,250,0.049999999999999996);\">the</span> <span style=\"background-color:rgba(135,206,250,0.13749999999999998);\">subscriptions</span> <span style=\"background-color:rgba(135,206,250,0.049999999999999996);\">were</span> <span style=\"background-color:rgba(135,206,250,0.049999999999999996);\">more</span> <span style=\"background-color:rgba(135,206,250,0.08750000000000001);\">accessible</span> <span style=\"background-color:rgba(135,206,250,0.0375);\">to</span> <span style=\"background-color:rgba(135,206,250,0.049999999999999996);\">small</span> <span style=\"background-color:rgba(135,206,250,0.09999999999999999);\">startups</span> <span style=\"background-color:rgba(135,206,250,0.11249999999999999);\">.</span><br> <span style=\"background-color:rgba(180,180,180,0.6666666666666666);\">Importance 0.60</span> <span style=\"background-color:rgba(135,206,250,0.1625);\">we</span> <span style=\"background-color:rgba(135,206,250,0.125);\">are</span> <span style=\"background-color:rgba(135,206,250,0.5125);\">great</span> <span style=\"background-color:rgba(135,206,250,0.5249999999999999);\">fans</span> <span style=\"background-color:rgba(135,206,250,0.7499999999999999);\">of</span> <span style=\"background-color:rgba(135,206,250,0.7499999999999999);\">slack</span> <span style=\"background-color:rgba(135,206,250,0.39999999999999997);\">,</span> <span style=\"background-color:rgba(135,206,250,0.37499999999999994);\">but</span> <span style=\"background-color:rgba(135,206,250,0.075);\">we</span> <span style=\"background-color:rgba(135,206,250,0.08750000000000001);\">wish</span> <span style=\"background-color:rgba(135,206,250,0.09999999999999999);\">the</span> <span style=\"background-color:rgba(135,206,250,0.15);\">subscriptions</span> <span style=\"background-color:rgba(135,206,250,0.0625);\">were</span> <span style=\"background-color:rgba(135,206,250,0.049999999999999996);\">more</span> <span style=\"background-color:rgba(135,206,250,0.125);\">accessible</span> <span style=\"background-color:rgba(135,206,250,0.049999999999999996);\">to</span> <span style=\"background-color:rgba(135,206,250,0.049999999999999996);\">small</span> <span style=\"background-color:rgba(135,206,250,0.11249999999999999);\">startups</span> <span style=\"background-color:rgba(135,206,250,0.17500000000000002);\">.</span><br> <span style=\"background-color:rgba(180,180,180,0.4555555555555555);\">Importance 0.41</span> <span style=\"background-color:rgba(135,206,250,0.09999999999999999);\">we</span> <span style=\"background-color:rgba(135,206,250,0.0625);\">are</span> <span style=\"background-color:rgba(135,206,250,0.18749999999999997);\">great</span> <span style=\"background-color:rgba(135,206,250,0.13749999999999998);\">fans</span> <span style=\"background-color:rgba(135,206,250,0.0625);\">of</span> <span style=\"background-color:rgba(135,206,250,0.3);\">slack</span> <span style=\"background-color:rgba(135,206,250,0.125);\">,</span> <span style=\"background-color:rgba(135,206,250,0.1625);\">but</span> <span style=\"background-color:rgba(135,206,250,0.075);\">we</span> <span style=\"background-color:rgba(135,206,250,0.1625);\">wish</span> <span style=\"background-color:rgba(135,206,250,0.049999999999999996);\">the</span> <span style=\"background-color:rgba(135,206,250,0.125);\">subscriptions</span> <span style=\"background-color:rgba(135,206,250,0.09999999999999999);\">were</span> <span style=\"background-color:rgba(135,206,250,0.049999999999999996);\">more</span> <span style=\"background-color:rgba(135,206,250,0.15);\">accessible</span> <span style=\"background-color:rgba(135,206,250,0.15);\">to</span> <span style=\"background-color:rgba(135,206,250,0.08750000000000001);\">small</span> <span style=\"background-color:rgba(135,206,250,0.25);\">startups</span> <span style=\"background-color:rgba(135,206,250,0.5125);\">.</span><br> <span style=\"background-color:rgba(180,180,180,0.43333333333333335);\">Importance 0.39</span> <span style=\"background-color:rgba(135,206,250,0.09999999999999999);\">we</span> <span style=\"background-color:rgba(135,206,250,0.08750000000000001);\">are</span> <span style=\"background-color:rgba(135,206,250,0.18749999999999997);\">great</span> <span style=\"background-color:rgba(135,206,250,0.3375);\">fans</span> <span style=\"background-color:rgba(135,206,250,0.4875);\">of</span> <span style=\"background-color:rgba(135,206,250,0.4875);\">slack</span> <span style=\"background-color:rgba(135,206,250,0.0625);\">,</span> <span style=\"background-color:rgba(135,206,250,0.11249999999999999);\">but</span> <span style=\"background-color:rgba(135,206,250,0.024999999999999998);\">we</span> <span style=\"background-color:rgba(135,206,250,0.049999999999999996);\">wish</span> <span style=\"background-color:rgba(135,206,250,0.024999999999999998);\">the</span> <span style=\"background-color:rgba(135,206,250,0.11249999999999999);\">subscriptions</span> <span style=\"background-color:rgba(135,206,250,0.024999999999999998);\">were</span> <span style=\"background-color:rgba(135,206,250,0.024999999999999998);\">more</span> <span style=\"background-color:rgba(135,206,250,0.024999999999999998);\">accessible</span> <span style=\"background-color:rgba(135,206,250,0.024999999999999998);\">to</span> <span style=\"background-color:rgba(135,206,250,0.012499999999999999);\">small</span> <span style=\"background-color:rgba(135,206,250,0.0625);\">startups</span> <span style=\"background-color:rgba(135,206,250,0.0375);\">.</span><br>"
            ],
            "text/plain": [
              "<IPython.core.display.HTML object>"
            ]
          },
          "metadata": {
            "tags": []
          }
        },
        {
          "output_type": "stream",
          "text": [
            "Sentiment.negative for \"price\"\n",
            "Scores (neutral/negative/positive): [0.012 0.958 0.03 ]\n"
          ],
          "name": "stdout"
        },
        {
          "output_type": "display_data",
          "data": {
            "text/html": [
              "<span style=\"background-color:rgba(180,180,180,1.1111111111111112);\">Importance 1.00</span> <span style=\"background-color:rgba(135,206,250,0.3125);\">we</span> <span style=\"background-color:rgba(135,206,250,0.5499999999999999);\">are</span> <span style=\"background-color:rgba(135,206,250,1.0999999999999999);\">great</span> <span style=\"background-color:rgba(135,206,250,1.15);\">fans</span> <span style=\"background-color:rgba(135,206,250,0.25);\">of</span> <span style=\"background-color:rgba(135,206,250,0.3375);\">slack</span> <span style=\"background-color:rgba(135,206,250,0.575);\">,</span> <span style=\"background-color:rgba(135,206,250,1.25);\">but</span> <span style=\"background-color:rgba(135,206,250,0.44999999999999996);\">we</span> <span style=\"background-color:rgba(135,206,250,1.1874999999999998);\">wish</span> <span style=\"background-color:rgba(135,206,250,0.19999999999999998);\">the</span> <span style=\"background-color:rgba(135,206,250,0.4875);\">subscriptions</span> <span style=\"background-color:rgba(135,206,250,0.2875);\">were</span> <span style=\"background-color:rgba(135,206,250,0.4125);\">more</span> <span style=\"background-color:rgba(135,206,250,0.3);\">accessible</span> <span style=\"background-color:rgba(135,206,250,0.1625);\">to</span> <span style=\"background-color:rgba(135,206,250,0.17500000000000002);\">small</span> <span style=\"background-color:rgba(135,206,250,0.3);\">startups</span> <span style=\"background-color:rgba(135,206,250,0.35000000000000003);\">.</span><br> <span style=\"background-color:rgba(180,180,180,0.9444444444444444);\">Importance 0.85</span> <span style=\"background-color:rgba(135,206,250,0.075);\">we</span> <span style=\"background-color:rgba(135,206,250,0.075);\">are</span> <span style=\"background-color:rgba(135,206,250,0.09999999999999999);\">great</span> <span style=\"background-color:rgba(135,206,250,0.08750000000000001);\">fans</span> <span style=\"background-color:rgba(135,206,250,0.049999999999999996);\">of</span> <span style=\"background-color:rgba(135,206,250,0.08750000000000001);\">slack</span> <span style=\"background-color:rgba(135,206,250,0.11249999999999999);\">,</span> <span style=\"background-color:rgba(135,206,250,0.7124999999999999);\">but</span> <span style=\"background-color:rgba(135,206,250,0.39999999999999997);\">we</span> <span style=\"background-color:rgba(135,206,250,1.0625);\">wish</span> <span style=\"background-color:rgba(135,206,250,0.35000000000000003);\">the</span> <span style=\"background-color:rgba(135,206,250,0.44999999999999996);\">subscriptions</span> <span style=\"background-color:rgba(135,206,250,0.675);\">were</span> <span style=\"background-color:rgba(135,206,250,0.44999999999999996);\">more</span> <span style=\"background-color:rgba(135,206,250,0.35000000000000003);\">accessible</span> <span style=\"background-color:rgba(135,206,250,0.22499999999999998);\">to</span> <span style=\"background-color:rgba(135,206,250,0.22499999999999998);\">small</span> <span style=\"background-color:rgba(135,206,250,0.3375);\">startups</span> <span style=\"background-color:rgba(135,206,250,0.3);\">.</span><br> <span style=\"background-color:rgba(180,180,180,0.5444444444444444);\">Importance 0.49</span> <span style=\"background-color:rgba(135,206,250,0.012499999999999999);\">we</span> <span style=\"background-color:rgba(135,206,250,0.024999999999999998);\">are</span> <span style=\"background-color:rgba(135,206,250,0.049999999999999996);\">great</span> <span style=\"background-color:rgba(135,206,250,0.049999999999999996);\">fans</span> <span style=\"background-color:rgba(135,206,250,0.024999999999999998);\">of</span> <span style=\"background-color:rgba(135,206,250,0.012499999999999999);\">slack</span> <span style=\"background-color:rgba(135,206,250,0.024999999999999998);\">,</span> <span style=\"background-color:rgba(135,206,250,0.11249999999999999);\">but</span> <span style=\"background-color:rgba(135,206,250,0.024999999999999998);\">we</span> <span style=\"background-color:rgba(135,206,250,0.6124999999999999);\">wish</span> <span style=\"background-color:rgba(135,206,250,0.09999999999999999);\">the</span> <span style=\"background-color:rgba(135,206,250,0.17500000000000002);\">subscriptions</span> <span style=\"background-color:rgba(135,206,250,0.17500000000000002);\">were</span> <span style=\"background-color:rgba(135,206,250,0.6124999999999999);\">more</span> <span style=\"background-color:rgba(135,206,250,0.46249999999999997);\">accessible</span> <span style=\"background-color:rgba(135,206,250,0.15);\">to</span> <span style=\"background-color:rgba(135,206,250,0.075);\">small</span> <span style=\"background-color:rgba(135,206,250,0.11249999999999999);\">startups</span> <span style=\"background-color:rgba(135,206,250,0.075);\">.</span><br> <span style=\"background-color:rgba(180,180,180,0.5333333333333333);\">Importance 0.48</span> <span style=\"background-color:rgba(135,206,250,0.024999999999999998);\">we</span> <span style=\"background-color:rgba(135,206,250,0.049999999999999996);\">are</span> <span style=\"background-color:rgba(135,206,250,0.0375);\">great</span> <span style=\"background-color:rgba(135,206,250,0.0375);\">fans</span> <span style=\"background-color:rgba(135,206,250,0.012499999999999999);\">of</span> <span style=\"background-color:rgba(135,206,250,0.024999999999999998);\">slack</span> <span style=\"background-color:rgba(135,206,250,0.024999999999999998);\">,</span> <span style=\"background-color:rgba(135,206,250,0.08750000000000001);\">but</span> <span style=\"background-color:rgba(135,206,250,0.0375);\">we</span> <span style=\"background-color:rgba(135,206,250,0.6);\">wish</span> <span style=\"background-color:rgba(135,206,250,0.09999999999999999);\">the</span> <span style=\"background-color:rgba(135,206,250,0.43749999999999994);\">subscriptions</span> <span style=\"background-color:rgba(135,206,250,0.6);\">were</span> <span style=\"background-color:rgba(135,206,250,0.18749999999999997);\">more</span> <span style=\"background-color:rgba(135,206,250,0.26249999999999996);\">accessible</span> <span style=\"background-color:rgba(135,206,250,0.11249999999999999);\">to</span> <span style=\"background-color:rgba(135,206,250,0.0625);\">small</span> <span style=\"background-color:rgba(135,206,250,0.13749999999999998);\">startups</span> <span style=\"background-color:rgba(135,206,250,0.08750000000000001);\">.</span><br> <span style=\"background-color:rgba(180,180,180,0.4555555555555555);\">Importance 0.41</span> <span style=\"background-color:rgba(135,206,250,0.11249999999999999);\">we</span> <span style=\"background-color:rgba(135,206,250,0.0625);\">are</span> <span style=\"background-color:rgba(135,206,250,0.075);\">great</span> <span style=\"background-color:rgba(135,206,250,0.09999999999999999);\">fans</span> <span style=\"background-color:rgba(135,206,250,0.049999999999999996);\">of</span> <span style=\"background-color:rgba(135,206,250,0.075);\">slack</span> <span style=\"background-color:rgba(135,206,250,0.1625);\">,</span> <span style=\"background-color:rgba(135,206,250,0.18749999999999997);\">but</span> <span style=\"background-color:rgba(135,206,250,0.11249999999999999);\">we</span> <span style=\"background-color:rgba(135,206,250,0.1625);\">wish</span> <span style=\"background-color:rgba(135,206,250,0.075);\">the</span> <span style=\"background-color:rgba(135,206,250,0.17500000000000002);\">subscriptions</span> <span style=\"background-color:rgba(135,206,250,0.08750000000000001);\">were</span> <span style=\"background-color:rgba(135,206,250,0.049999999999999996);\">more</span> <span style=\"background-color:rgba(135,206,250,0.15);\">accessible</span> <span style=\"background-color:rgba(135,206,250,0.13749999999999998);\">to</span> <span style=\"background-color:rgba(135,206,250,0.11249999999999999);\">small</span> <span style=\"background-color:rgba(135,206,250,0.4125);\">startups</span> <span style=\"background-color:rgba(135,206,250,0.5125);\">.</span><br>"
            ],
            "text/plain": [
              "<IPython.core.display.HTML object>"
            ]
          },
          "metadata": {
            "tags": []
          }
        },
        {
          "output_type": "stream",
          "text": [
            "Sentiment.negative for \"subscription\"\n",
            "Scores (neutral/negative/positive): [0.016 0.914 0.069]\n"
          ],
          "name": "stdout"
        },
        {
          "output_type": "display_data",
          "data": {
            "text/html": [
              "<span style=\"background-color:rgba(180,180,180,1.1111111111111112);\">Importance 1.00</span> <span style=\"background-color:rgba(135,206,250,0.075);\">we</span> <span style=\"background-color:rgba(135,206,250,0.0625);\">are</span> <span style=\"background-color:rgba(135,206,250,0.0625);\">great</span> <span style=\"background-color:rgba(135,206,250,0.13749999999999998);\">fans</span> <span style=\"background-color:rgba(135,206,250,0.08750000000000001);\">of</span> <span style=\"background-color:rgba(135,206,250,0.15);\">slack</span> <span style=\"background-color:rgba(135,206,250,0.09999999999999999);\">,</span> <span style=\"background-color:rgba(135,206,250,0.5874999999999999);\">but</span> <span style=\"background-color:rgba(135,206,250,0.11249999999999999);\">we</span> <span style=\"background-color:rgba(135,206,250,0.5249999999999999);\">wish</span> <span style=\"background-color:rgba(135,206,250,0.6875);\">the</span> <span style=\"background-color:rgba(135,206,250,1.25);\">subscriptions</span> <span style=\"background-color:rgba(135,206,250,0.43749999999999994);\">were</span> <span style=\"background-color:rgba(135,206,250,0.15);\">more</span> <span style=\"background-color:rgba(135,206,250,0.675);\">accessible</span> <span style=\"background-color:rgba(135,206,250,0.17500000000000002);\">to</span> <span style=\"background-color:rgba(135,206,250,0.09999999999999999);\">small</span> <span style=\"background-color:rgba(135,206,250,0.325);\">startups</span> <span style=\"background-color:rgba(135,206,250,0.1625);\">.</span><br> <span style=\"background-color:rgba(180,180,180,1.0333333333333334);\">Importance 0.93</span> <span style=\"background-color:rgba(135,206,250,0.09999999999999999);\">we</span> <span style=\"background-color:rgba(135,206,250,0.17500000000000002);\">are</span> <span style=\"background-color:rgba(135,206,250,0.19999999999999998);\">great</span> <span style=\"background-color:rgba(135,206,250,0.125);\">fans</span> <span style=\"background-color:rgba(135,206,250,0.075);\">of</span> <span style=\"background-color:rgba(135,206,250,0.11249999999999999);\">slack</span> <span style=\"background-color:rgba(135,206,250,0.15);\">,</span> <span style=\"background-color:rgba(135,206,250,0.9249999999999999);\">but</span> <span style=\"background-color:rgba(135,206,250,0.5125);\">we</span> <span style=\"background-color:rgba(135,206,250,1.1625);\">wish</span> <span style=\"background-color:rgba(135,206,250,0.7374999999999999);\">the</span> <span style=\"background-color:rgba(135,206,250,1.1625);\">subscriptions</span> <span style=\"background-color:rgba(135,206,250,0.7999999999999999);\">were</span> <span style=\"background-color:rgba(135,206,250,0.65);\">more</span> <span style=\"background-color:rgba(135,206,250,0.3375);\">accessible</span> <span style=\"background-color:rgba(135,206,250,0.18749999999999997);\">to</span> <span style=\"background-color:rgba(135,206,250,0.15);\">small</span> <span style=\"background-color:rgba(135,206,250,0.2875);\">startups</span> <span style=\"background-color:rgba(135,206,250,0.25);\">.</span><br> <span style=\"background-color:rgba(180,180,180,0.7);\">Importance 0.63</span> <span style=\"background-color:rgba(135,206,250,0.049999999999999996);\">we</span> <span style=\"background-color:rgba(135,206,250,0.0375);\">are</span> <span style=\"background-color:rgba(135,206,250,0.075);\">great</span> <span style=\"background-color:rgba(135,206,250,0.0625);\">fans</span> <span style=\"background-color:rgba(135,206,250,0.0625);\">of</span> <span style=\"background-color:rgba(135,206,250,0.0625);\">slack</span> <span style=\"background-color:rgba(135,206,250,0.049999999999999996);\">,</span> <span style=\"background-color:rgba(135,206,250,0.39999999999999997);\">but</span> <span style=\"background-color:rgba(135,206,250,0.08750000000000001);\">we</span> <span style=\"background-color:rgba(135,206,250,0.5375);\">wish</span> <span style=\"background-color:rgba(135,206,250,0.7875);\">the</span> <span style=\"background-color:rgba(135,206,250,0.7875);\">subscriptions</span> <span style=\"background-color:rgba(135,206,250,0.35000000000000003);\">were</span> <span style=\"background-color:rgba(135,206,250,0.125);\">more</span> <span style=\"background-color:rgba(135,206,250,0.43749999999999994);\">accessible</span> <span style=\"background-color:rgba(135,206,250,0.08750000000000001);\">to</span> <span style=\"background-color:rgba(135,206,250,0.0625);\">small</span> <span style=\"background-color:rgba(135,206,250,0.08750000000000001);\">startups</span> <span style=\"background-color:rgba(135,206,250,0.08750000000000001);\">.</span><br> <span style=\"background-color:rgba(180,180,180,0.6222222222222222);\">Importance 0.56</span> <span style=\"background-color:rgba(135,206,250,0.0375);\">we</span> <span style=\"background-color:rgba(135,206,250,0.0625);\">are</span> <span style=\"background-color:rgba(135,206,250,0.0375);\">great</span> <span style=\"background-color:rgba(135,206,250,0.0375);\">fans</span> <span style=\"background-color:rgba(135,206,250,0.024999999999999998);\">of</span> <span style=\"background-color:rgba(135,206,250,0.024999999999999998);\">slack</span> <span style=\"background-color:rgba(135,206,250,0.024999999999999998);\">,</span> <span style=\"background-color:rgba(135,206,250,0.09999999999999999);\">but</span> <span style=\"background-color:rgba(135,206,250,0.075);\">we</span> <span style=\"background-color:rgba(135,206,250,0.7000000000000001);\">wish</span> <span style=\"background-color:rgba(135,206,250,0.17500000000000002);\">the</span> <span style=\"background-color:rgba(135,206,250,0.6375);\">subscriptions</span> <span style=\"background-color:rgba(135,206,250,0.7000000000000001);\">were</span> <span style=\"background-color:rgba(135,206,250,0.25);\">more</span> <span style=\"background-color:rgba(135,206,250,0.4875);\">accessible</span> <span style=\"background-color:rgba(135,206,250,0.11249999999999999);\">to</span> <span style=\"background-color:rgba(135,206,250,0.075);\">small</span> <span style=\"background-color:rgba(135,206,250,0.08750000000000001);\">startups</span> <span style=\"background-color:rgba(135,206,250,0.075);\">.</span><br> <span style=\"background-color:rgba(180,180,180,0.5888888888888889);\">Importance 0.53</span> <span style=\"background-color:rgba(135,206,250,0.13749999999999998);\">we</span> <span style=\"background-color:rgba(135,206,250,0.13749999999999998);\">are</span> <span style=\"background-color:rgba(135,206,250,0.475);\">great</span> <span style=\"background-color:rgba(135,206,250,0.3375);\">fans</span> <span style=\"background-color:rgba(135,206,250,0.15);\">of</span> <span style=\"background-color:rgba(135,206,250,0.19999999999999998);\">slack</span> <span style=\"background-color:rgba(135,206,250,0.4875);\">,</span> <span style=\"background-color:rgba(135,206,250,0.6625);\">but</span> <span style=\"background-color:rgba(135,206,250,0.2375);\">we</span> <span style=\"background-color:rgba(135,206,250,0.6625);\">wish</span> <span style=\"background-color:rgba(135,206,250,0.17500000000000002);\">the</span> <span style=\"background-color:rgba(135,206,250,0.5125);\">subscriptions</span> <span style=\"background-color:rgba(135,206,250,0.13749999999999998);\">were</span> <span style=\"background-color:rgba(135,206,250,0.17500000000000002);\">more</span> <span style=\"background-color:rgba(135,206,250,0.19999999999999998);\">accessible</span> <span style=\"background-color:rgba(135,206,250,0.08750000000000001);\">to</span> <span style=\"background-color:rgba(135,206,250,0.049999999999999996);\">small</span> <span style=\"background-color:rgba(135,206,250,0.13749999999999998);\">startups</span> <span style=\"background-color:rgba(135,206,250,0.15);\">.</span><br>"
            ],
            "text/plain": [
              "<IPython.core.display.HTML object>"
            ]
          },
          "metadata": {
            "tags": []
          }
        }
      ]
    }
  ]
}